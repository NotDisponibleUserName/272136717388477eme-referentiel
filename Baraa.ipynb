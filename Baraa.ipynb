{
 "cells": [
  {
   "cell_type": "code",
   "execution_count": 2,
   "id": "c9857c4c",
   "metadata": {},
   "outputs": [
    {
     "name": "stdout",
     "output_type": "stream",
     "text": [
      "enter your nameMohamed Baraa\n",
      "your last nameKorchi\n",
      "HELLO! Korchi Mohamed Baraa\n"
     ]
    }
   ],
   "source": [
    "a=input('enter your name')\n",
    "b=input('your last name')\n",
    "print('HELLO!',b,a)"
   ]
  },
  {
   "cell_type": "code",
   "execution_count": 6,
   "id": "9d5105a7",
   "metadata": {},
   "outputs": [
    {
     "name": "stdout",
     "output_type": "stream",
     "text": [
      "calculator    :9\n",
      "1107\n"
     ]
    }
   ],
   "source": [
    "a=input('calculator    :')\n",
    "aa=a*2\n",
    "aaa=a*3\n",
    "c=int(a)+int(aa)+int(aaa)\n",
    "print(c)"
   ]
  },
  {
   "cell_type": "code",
   "execution_count": 8,
   "id": "f9ea0372",
   "metadata": {},
   "outputs": [
    {
     "name": "stdout",
     "output_type": "stream",
     "text": [
      "enter a number:2\n",
      "2 is a even number\n",
      "enter a number:3\n",
      "3 isn't a even nember 3 is odd\n"
     ]
    }
   ],
   "source": [
    "a=int(input('enter a number:'))\n",
    "b=a % 2\n",
    "if b ==0:\n",
    "    print(a,'is a even number')\n",
    "else:\n",
    "    print(a,\"isn't a even nember\",a,'is odd')\n",
    "    \n",
    "c=int(input('enter a number:'))\n",
    "b=c % 2\n",
    "if b ==0:\n",
    "    print(c,'is a even number')\n",
    "else:\n",
    "    print(c,\"isn't a even nember\",c,'is odd')"
   ]
  },
  {
   "cell_type": "code",
   "execution_count": 11,
   "id": "f0456ac2",
   "metadata": {},
   "outputs": [
    {
     "name": "stdout",
     "output_type": "stream",
     "text": [
      "200220092016202320372044205120582072207920862093210721142121212821422149215621632177218421912198221222192226223322472254226122682282228922962303231723242331233823522359236623732387239424012408242224292436244324572464247124782492249925062513252725342541254825622569257625832597260426112618263226392646265326672674268126882702270927162723273727442751275827722779278627932807281428212828284228492856286328772884289128982912291929262933294729542961296829822989299630033017302430313038305230593066307330873094310131083122312931363143315731643171317831923199"
     ]
    }
   ],
   "source": [
    "for i in range(2000,3201):\n",
    "    if i % 7==0 and i % 5 !=0:\n",
    "        print(i,end=\"\")"
   ]
  },
  {
   "cell_type": "code",
   "execution_count": 14,
   "id": "12dde20a",
   "metadata": {},
   "outputs": [
    {
     "ename": "SyntaxError",
     "evalue": "invalid syntax (Temp/ipykernel_12844/521285643.py, line 1)",
     "output_type": "error",
     "traceback": [
      "\u001b[1;36m  File \u001b[1;32m\"C:\\Users\\LENOVO\\AppData\\Local\\Temp/ipykernel_12844/521285643.py\"\u001b[1;36m, line \u001b[1;32m1\u001b[0m\n\u001b[1;33m    a=1+8!\u001b[0m\n\u001b[1;37m         ^\u001b[0m\n\u001b[1;31mSyntaxError\u001b[0m\u001b[1;31m:\u001b[0m invalid syntax\n"
     ]
    }
   ],
   "source": [
    "#factorial"
   ]
  },
  {
   "cell_type": "code",
   "execution_count": 27,
   "id": "ea6bef89",
   "metadata": {},
   "outputs": [],
   "source": [
    "a=\"hello team\""
   ]
  },
  {
   "cell_type": "code",
   "execution_count": 29,
   "id": "7252df4e",
   "metadata": {},
   "outputs": [
    {
     "name": "stdout",
     "output_type": "stream",
     "text": [
      "enter a price12\n",
      "vous aurez une re mise de 1.2\n"
     ]
    }
   ],
   "source": [
    "a=(int(input(\"enter a price\")))\n",
    "if a >= 500:\n",
    "    b=a*50/100\n",
    "\n",
    "elif a <=500 and a >= 200 and a == 200:\n",
    "    b=a*20/100\n",
    "else:\n",
    "    b=a*10/100\n",
    "print(\"vous aurez une re mise de\",b)"
   ]
  },
  {
   "cell_type": "code",
   "execution_count": null,
   "id": "94dae67d",
   "metadata": {},
   "outputs": [],
   "source": []
  },
  {
   "cell_type": "code",
   "execution_count": null,
   "id": "6beff322",
   "metadata": {},
   "outputs": [],
   "source": []
  }
 ],
 "metadata": {
  "kernelspec": {
   "display_name": "Python 3 (ipykernel)",
   "language": "python",
   "name": "python3"
  },
  "language_info": {
   "codemirror_mode": {
    "name": "ipython",
    "version": 3
   },
   "file_extension": ".py",
   "mimetype": "text/x-python",
   "name": "python",
   "nbconvert_exporter": "python",
   "pygments_lexer": "ipython3",
   "version": "3.9.7"
  }
 },
 "nbformat": 4,
 "nbformat_minor": 5
}
