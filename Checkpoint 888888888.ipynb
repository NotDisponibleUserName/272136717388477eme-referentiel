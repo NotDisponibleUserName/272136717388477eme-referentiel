{
 "cells": [
  {
   "cell_type": "markdown",
   "id": "348e24dc",
   "metadata": {},
   "source": [
    "# Q1"
   ]
  },
  {
   "cell_type": "code",
   "execution_count": 34,
   "id": "fad39255",
   "metadata": {
    "scrolled": true
   },
   "outputs": [
    {
     "name": "stdout",
     "output_type": "stream",
     "text": [
      "HI!\n"
     ]
    },
    {
     "data": {
      "text/plain": [
       "'What is Python language?                                                \\nPython is a widely used high-level, general-purpose, interpreted, dynamic programming language.Its design philosophy emphasizes code readability, and its syntax allows programmers to express concepts in fewer lines of code than possible in \\nlanguages such as C++ or Java. \\nPython supports multiple programming paradigms, including object-oriented, imperative and functional programming or procedural styles. It features a dynamic type system and automatic memory management and has a large and comprehensive standard library.The best way we learn anything is by practice and exercise questions. We  have started this section for those (beginner to intermediate) who are familiar with Python.\\nBARAA'"
      ]
     },
     "execution_count": 34,
     "metadata": {},
     "output_type": "execute_result"
    }
   ],
   "source": [
    "print(\"HI!\")\n",
    "f=open(\"python.txt\")\n",
    "f.read()"
   ]
  },
  {
   "cell_type": "markdown",
   "id": "daf9c906",
   "metadata": {},
   "source": [
    "# Q2"
   ]
  },
  {
   "cell_type": "code",
   "execution_count": 38,
   "id": "651da1bc",
   "metadata": {
    "scrolled": true
   },
   "outputs": [
    {
     "name": "stdout",
     "output_type": "stream",
     "text": [
      "What is Python language?                                                \n",
      "\n",
      "Python is a widely used high-level, general-purpose, interpreted, dynamic programming language.Its design philosophy emphasizes code readability, and its syntax allows programmers to express concepts in fewer lines of code than possible in \n",
      "\n",
      "languages such as C++ or Java. \n",
      "\n"
     ]
    }
   ],
   "source": [
    "f=open(\"python.txt\",\"r\")\n",
    "for l in range(3):\n",
    "    print(f.readline())"
   ]
  },
  {
   "cell_type": "markdown",
   "id": "d9e2fb2c",
   "metadata": {},
   "source": [
    "# Q3"
   ]
  },
  {
   "cell_type": "code",
   "execution_count": 58,
   "id": "6ea3118c",
   "metadata": {},
   "outputs": [
    {
     "data": {
      "text/plain": [
       "['Python supports multiple programming paradigms, including object-oriented, imperative and functional programming or procedural styles. It features a dynamic type system and automatic memory management and has a large and comprehensive standard library.The best way we learn anything is by practice and exercise questions. We  have started this section for those (beginner to intermediate) who are familiar with Python.\\n',\n",
       " 'BARAA']"
      ]
     },
     "execution_count": 58,
     "metadata": {},
     "output_type": "execute_result"
    }
   ],
   "source": [
    "f=open(\"python.txt\",\"r\")\n",
    "n=4\n",
    "f2=f.readlines()\n",
    "AltF4=f2[-2:6]\n",
    "\n",
    "def printing(x):\n",
    "    return(x)\n",
    "\n",
    "printing(AltF4)\n"
   ]
  },
  {
   "cell_type": "code",
   "execution_count": 59,
   "id": "25adda7a",
   "metadata": {},
   "outputs": [
    {
     "data": {
      "text/plain": [
       "4"
      ]
     },
     "execution_count": 59,
     "metadata": {},
     "output_type": "execute_result"
    }
   ],
   "source": [
    "def sf(file):\n",
    "    f=open(\"python.txt\",\"r\")\n",
    "    lines = f.read()\n",
    "    lines.replace(\",\",\" \")\n",
    "    l=len(lines.split(\" \"))\n",
    "    return(l)\n",
    "\n",
    "sf(\"python.txt\")"
   ]
  },
  {
   "cell_type": "code",
   "execution_count": null,
   "id": "80943412",
   "metadata": {},
   "outputs": [],
   "source": []
  },
  {
   "cell_type": "code",
   "execution_count": null,
   "id": "6d9c9eb7",
   "metadata": {},
   "outputs": [],
   "source": []
  }
 ],
 "metadata": {
  "kernelspec": {
   "display_name": "Python 3 (ipykernel)",
   "language": "python",
   "name": "python3"
  },
  "language_info": {
   "codemirror_mode": {
    "name": "ipython",
    "version": 3
   },
   "file_extension": ".py",
   "mimetype": "text/x-python",
   "name": "python",
   "nbconvert_exporter": "python",
   "pygments_lexer": "ipython3",
   "version": "3.9.7"
  }
 },
 "nbformat": 4,
 "nbformat_minor": 5
}
