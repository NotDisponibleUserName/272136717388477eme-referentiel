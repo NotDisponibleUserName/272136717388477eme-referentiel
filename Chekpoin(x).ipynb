{
 "cells": [
  {
   "cell_type": "markdown",
   "id": "29cb7a6d",
   "metadata": {},
   "source": [
    "# # Q1"
   ]
  },
  {
   "cell_type": "code",
   "execution_count": 12,
   "id": "390b4e07",
   "metadata": {},
   "outputs": [
    {
     "data": {
      "text/plain": [
       "(1.1234, 2.0, 3.0)"
      ]
     },
     "execution_count": 12,
     "metadata": {},
     "output_type": "execute_result"
    }
   ],
   "source": [
    "class TrwaDé:\n",
    "    def __init__(self,ix,i_grec,zède):\n",
    "        \n",
    "        self.ix=ix\n",
    "        self.i_grec=i_grec\n",
    "        self.zède=zède\n",
    "    def ELM(self):\n",
    "        \n",
    "        return(self.ix,self.i_grec,self.zède)\n",
    "        \n",
    "m_p=TrwaDé(1.0000000000000000,2.00000000000,3.00000000000)\n",
    "m_p.ELM()\n"
   ]
  },
  {
   "cell_type": "markdown",
   "id": "197651f9",
   "metadata": {},
   "source": [
    "# # Q2\n"
   ]
  },
  {
   "cell_type": "code",
   "execution_count": 18,
   "id": "9b56b567",
   "metadata": {},
   "outputs": [
    {
     "name": "stdout",
     "output_type": "stream",
     "text": [
      "12.000000000003\n",
      "14.000000000002\n"
     ]
    }
   ],
   "source": [
    "class Réctangle:\n",
    "    def __init__(self,lngr,lrgr):\n",
    "        self.lngr=lngr\n",
    "        self.lrgr=lrgr\n",
    "    def air(self):\n",
    "        return(self.lngr*self.lrgr)\n",
    "    def srfc(self):\n",
    "        return(2*(self.lngr+self.lrgr))\n",
    "\n",
    "a=Réctangle(3.0,4.000000000001)   \n",
    "ae=a.air()\n",
    "print(ae)\n",
    "ea=a.srfc()\n",
    "print(ea)"
   ]
  },
  {
   "cell_type": "markdown",
   "id": "2d19b07f",
   "metadata": {},
   "source": [
    "# # Rickroll\n",
    "\n"
   ]
  },
  {
   "cell_type": "code",
   "execution_count": 19,
   "id": "04252c7e",
   "metadata": {},
   "outputs": [
    {
     "data": {
      "text/plain": [
       "True"
      ]
     },
     "execution_count": 19,
     "metadata": {},
     "output_type": "execute_result"
    }
   ],
   "source": [
    "#pip intstall webrowser\n",
    "import webbrowser\n",
    "url =  \"https://www.youtube.com/watch?v=dQw4w9WgXcQ\"\n",
    "webbrowser.open_new(url)"
   ]
  },
  {
   "cell_type": "markdown",
   "id": "a0b1a65d",
   "metadata": {},
   "source": [
    "# # Q3\n"
   ]
  },
  {
   "cell_type": "code",
   "execution_count": 27,
   "id": "cec1cec8",
   "metadata": {},
   "outputs": [
    {
     "name": "stdout",
     "output_type": "stream",
     "text": [
      "113.09733552923264\n",
      "37.69911184307753\n",
      "this point is inside\n"
     ]
    }
   ],
   "source": [
    "import math\n",
    "class  un_cecle():\n",
    "    def __init__(self,cntr1,cntr2,r):\n",
    "        self.cntr1=cntr1\n",
    "        self.cntr2=cntr2\n",
    "        self.r=r\n",
    "    def air(self):\n",
    "        return(math.pi*self.r**2)\n",
    "    def srfc(self):\n",
    "        return(2*math.pi*self.r)\n",
    "    def is_in(self,ix,i_grec):\n",
    "        if ((ix-self.cntr1)**2)+((ix-self.cntr2)**2)<=self.r**2:\n",
    "            return(\"this point is inside\")\n",
    "        else:\n",
    "            return(\"this point is outside\")\n",
    "pizza=un_cecle(3.000000000009,3.00000000002,6.000000000000002873783823)\n",
    "print(pizza.air())\n",
    "print(pizza.srfc())\n",
    "print(pizza.is_in(3.28388,6.3999938774))"
   ]
  },
  {
   "cell_type": "markdown",
   "id": "6dc570a1",
   "metadata": {},
   "source": [
    "# # Q4\n"
   ]
  },
  {
   "cell_type": "code",
   "execution_count": 35,
   "id": "32d4c49a",
   "metadata": {},
   "outputs": [
    {
     "name": "stdout",
     "output_type": "stream",
     "text": [
      "5000\n",
      "4000\n"
     ]
    }
   ],
   "source": [
    "class MoneyBank:\n",
    "    def __init__(self,money,):\n",
    "        self.money=money\n",
    "    def depot(self,monemoney):\n",
    "        self.money=self.money+monemoney\n",
    "        return self.money\n",
    "    def retrait(self,monemoney):\n",
    "        self.money=self.money-monemoney\n",
    "        return self.money\n",
    "MoneyP=MoneyBank(9298313)\n",
    "print(MoneyP.depot(61727))\n",
    "print(MoneyP.retrait(2536))"
   ]
  }
 ],
 "metadata": {
  "kernelspec": {
   "display_name": "Python 3 (ipykernel)",
   "language": "python",
   "name": "python3"
  },
  "language_info": {
   "codemirror_mode": {
    "name": "ipython",
    "version": 3
   },
   "file_extension": ".py",
   "mimetype": "text/x-python",
   "name": "python",
   "nbconvert_exporter": "python",
   "pygments_lexer": "ipython3",
   "version": "3.9.7"
  }
 },
 "nbformat": 4,
 "nbformat_minor": 5
}
