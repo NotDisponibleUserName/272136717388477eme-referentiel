{
 "cells": [
  {
   "cell_type": "code",
   "execution_count": 21,
   "id": "545986ca",
   "metadata": {},
   "outputs": [
    {
     "name": "stdout",
     "output_type": "stream",
     "text": [
      "24\n"
     ]
    }
   ],
   "source": [
    "l=[2,3,4]\n",
    "r=1\n",
    "for i in l:\n",
    "    r=i*r\n",
    "print(r)"
   ]
  },
  {
   "cell_type": "code",
   "execution_count": 20,
   "id": "a32cc530",
   "metadata": {},
   "outputs": [
    {
     "data": {
      "text/plain": [
       "[(2, 3), (4, 3), (5, 302394903984)]"
      ]
     },
     "execution_count": 20,
     "metadata": {},
     "output_type": "execute_result"
    }
   ],
   "source": [
    "loust=[(2,3),(4,3),(5,302394903984)]\n",
    "loust.sort(key=lambda x:x [-1])\n",
    "loust"
   ]
  },
  {
   "cell_type": "code",
   "execution_count": 17,
   "id": "7da05da7",
   "metadata": {},
   "outputs": [
    {
     "name": "stdout",
     "output_type": "stream",
     "text": [
      "{'a': 29931040, 'b': 738000, 'Teg': 283, 'd': 1827329}\n"
     ]
    }
   ],
   "source": [
    "dra={\"a\":29931033,\"b\":737836,\"Teg\":283}\n",
    "en={\"a\":7,\"b\":164,\"d\":1827329}\n",
    "fa={}\n",
    "for w in dra.keys():\n",
    "    fa[w]=dra[w]+en.get(w,0)\n",
    "for x in en.keys():\n",
    "    fa[x]=en[x]+dra.get(x,0)\n",
    "print(fa)\n",
    "    "
   ]
  },
  {
   "cell_type": "code",
   "execution_count": 16,
   "id": "d165a3e1",
   "metadata": {},
   "outputs": [
    {
     "name": "stdout",
     "output_type": "stream",
     "text": [
      "f12\n",
      "{1: 1, 2: 4, 3: 9, 4: 16, 5: 25, 6: 36, 7: 49, 8: 64, 9: 81, 10: 100, 11: 121, 12: 144}\n"
     ]
    }
   ],
   "source": [
    "n=int(input(\"f\"))\n",
    "dI={}\n",
    "for x in range(1,n+1):\n",
    "    dI[x]=x*x\n",
    "    \n",
    "print(dI)"
   ]
  },
  {
   "cell_type": "code",
   "execution_count": 15,
   "id": "66f02287",
   "metadata": {},
   "outputs": [
    {
     "data": {
      "text/plain": [
       "[('itemc', '123452686746734567.1'), ('itemb', '15.2'), ('itema', '12.1')]"
      ]
     },
     "execution_count": 15,
     "metadata": {},
     "output_type": "execute_result"
    }
   ],
   "source": [
    "tt=[(\"itema\",\"12.1\"),(\"itemb\",\"15.2\"),(\"itemc\",\"123452686746734567.1\")]\n",
    "tt.sort(key=lambda x:float(x[1]), reverse=True)\n",
    "tt"
   ]
  },
  {
   "cell_type": "code",
   "execution_count": null,
   "id": "bd55080d",
   "metadata": {},
   "outputs": [],
   "source": []
  }
 ],
 "metadata": {
  "kernelspec": {
   "display_name": "Python 3 (ipykernel)",
   "language": "python",
   "name": "python3"
  },
  "language_info": {
   "codemirror_mode": {
    "name": "ipython",
    "version": 3
   },
   "file_extension": ".py",
   "mimetype": "text/x-python",
   "name": "python",
   "nbconvert_exporter": "python",
   "pygments_lexer": "ipython3",
   "version": "3.9.7"
  }
 },
 "nbformat": 4,
 "nbformat_minor": 5
}
