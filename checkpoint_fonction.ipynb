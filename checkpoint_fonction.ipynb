{
 "cells": [
  {
   "cell_type": "markdown",
   "id": "337f41b6",
   "metadata": {},
   "source": [
    "## Q1"
   ]
  },
  {
   "cell_type": "code",
   "execution_count": 12,
   "id": "6a9d1cc0",
   "metadata": {},
   "outputs": [
    {
     "name": "stdout",
     "output_type": "stream",
     "text": [
      "the maximum is : 35\n"
     ]
    }
   ],
   "source": [
    "def some(a,b,c):\n",
    "    if a>=b and a>=c:\n",
    "        return a\n",
    "    elif b>=a and b>=c:\n",
    "        return b\n",
    "    else:\n",
    "        return c \n",
    "print(\"the maximum is :\",some(20,35,19))"
   ]
  },
  {
   "cell_type": "markdown",
   "id": "f50a29af",
   "metadata": {},
   "source": [
    "## Q2"
   ]
  },
  {
   "cell_type": "code",
   "execution_count": 14,
   "id": "bf9a8150",
   "metadata": {},
   "outputs": [
    {
     "data": {
      "text/plain": [
       "(50, 30)"
      ]
     },
     "execution_count": 14,
     "metadata": {},
     "output_type": "execute_result"
    }
   ],
   "source": [
    "def calc(x,y):\n",
    "    return((x+y),(x-y))\n",
    "calc(40,10)"
   ]
  },
  {
   "cell_type": "markdown",
   "id": "cd6a7d80",
   "metadata": {},
   "source": [
    "## Q3"
   ]
  },
  {
   "cell_type": "code",
   "execution_count": 38,
   "id": "48932ff2",
   "metadata": {},
   "outputs": [
    {
     "data": {
      "text/plain": [
       "67"
      ]
     },
     "execution_count": 38,
     "metadata": {},
     "output_type": "execute_result"
    }
   ],
   "source": [
    "please=[12,13,15,27]\n",
    "def addition(sad):\n",
    "    s=0\n",
    "    for w in sad:\n",
    "        s=s+w\n",
    "    return s  \n",
    "\n",
    "addition(please)"
   ]
  },
  {
   "cell_type": "code",
   "execution_count": 40,
   "id": "3256e0ae",
   "metadata": {},
   "outputs": [
    {
     "data": {
      "text/plain": [
       "63180"
      ]
     },
     "execution_count": 40,
     "metadata": {},
     "output_type": "execute_result"
    }
   ],
   "source": [
    "def multiplication(pad):\n",
    "    s=1   \n",
    "    for i in pad:\n",
    "        s=s*i\n",
    "    return s\n",
    "        \n",
    "multiplication(please)"
   ]
  },
  {
   "cell_type": "code",
   "execution_count": 42,
   "id": "68e81980",
   "metadata": {},
   "outputs": [
    {
     "data": {
      "text/plain": [
       "(27, 351)"
      ]
     },
     "execution_count": 42,
     "metadata": {},
     "output_type": "execute_result"
    }
   ],
   "source": [
    "def bot(l):\n",
    "    p=[]\n",
    "    f=[]\n",
    "    for i in range(len(l)):\n",
    "        if i%2==0:\n",
    "            p.append(l[i])\n",
    "        else:\n",
    "            f.append(l[i])\n",
    "    return addition(p),multiplication(f)\n",
    "bot(please)"
   ]
  },
  {
   "cell_type": "markdown",
   "id": "c95cda13",
   "metadata": {},
   "source": [
    "## Q4"
   ]
  },
  {
   "cell_type": "code",
   "execution_count": 5,
   "id": "adb227e2",
   "metadata": {},
   "outputs": [
    {
     "name": "stdout",
     "output_type": "stream",
     "text": [
      "vert-noir-noirvert-baraa\n",
      "baraa-noir-noirvert-vert\n"
     ]
    }
   ],
   "source": [
    "l=[v for v in input().split('-')]\n",
    "l.sort()\n",
    "print('-'.join(l))"
   ]
  },
  {
   "cell_type": "markdown",
   "id": "b0ee623b",
   "metadata": {},
   "source": [
    "## Q5B(rfhreihgeigheoghghrhdkthoe)\n"
   ]
  },
  {
   "cell_type": "code",
   "execution_count": 13,
   "id": "81baca1b",
   "metadata": {},
   "outputs": [
    {
     "name": "stdout",
     "output_type": "stream",
     "text": [
      "entrer la valeutus :120,1000,3,40\n"
     ]
    },
    {
     "data": {
      "text/plain": [
       "[20, 58, 3, 12]"
      ]
     },
     "execution_count": 13,
     "metadata": {},
     "output_type": "execute_result"
    }
   ],
   "source": [
    "import math\n",
    "def c():\n",
    "    v=input(\"entrer la valeutus :\")\n",
    "    v=v.split(',')\n",
    "    l=[]\n",
    "    for n in v:\n",
    "        q=round(math.sqrt(2*50*int(n)/30))\n",
    "        l.append(q)\n",
    "    return l\n",
    "c()"
   ]
  },
  {
   "cell_type": "code",
   "execution_count": 9,
   "id": "3808e240",
   "metadata": {},
   "outputs": [
    {
     "name": "stdout",
     "output_type": "stream",
     "text": [
      "hello \n"
     ]
    }
   ],
   "source": []
  },
  {
   "cell_type": "code",
   "execution_count": null,
   "id": "edeec2a9",
   "metadata": {},
   "outputs": [],
   "source": []
  }
 ],
 "metadata": {
  "kernelspec": {
   "display_name": "Python 3 (ipykernel)",
   "language": "python",
   "name": "python3"
  },
  "language_info": {
   "codemirror_mode": {
    "name": "ipython",
    "version": 3
   },
   "file_extension": ".py",
   "mimetype": "text/x-python",
   "name": "python",
   "nbconvert_exporter": "python",
   "pygments_lexer": "ipython3",
   "version": "3.9.7"
  }
 },
 "nbformat": 4,
 "nbformat_minor": 5
}
